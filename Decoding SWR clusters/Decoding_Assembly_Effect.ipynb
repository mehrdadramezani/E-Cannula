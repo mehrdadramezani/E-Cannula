{
 "cells": [
  {
   "cell_type": "code",
   "execution_count": 1,
   "metadata": {},
   "outputs": [],
   "source": [
    "import scipy.io as sio\n",
    "import numpy as np\n",
    "\n",
    "import matplotlib.pyplot as plt\n",
    "import seaborn as sn\n",
    "\n",
    "from sklearn.feature_selection import RFECV\n",
    "from sklearn.svm import SVC\n",
    "from sklearn.dummy import DummyClassifier\n",
    "\n",
    "from sklearn.metrics import accuracy_score, confusion_matrix, precision_score, recall_score\n",
    "from sklearn.model_selection import cross_val_score, cross_val_predict\n",
    "\n",
    "from matplotlib import pyplot as plt\n",
    "from matplotlib import gridspec\n",
    "import time\n",
    "from scipy.stats import ranksums\n",
    "import pandas as pd"
   ]
  },
  {
   "cell_type": "code",
   "execution_count": 2,
   "metadata": {},
   "outputs": [],
   "source": [
    "# load the data\n",
    "mat_contents    = sio.loadmat('SWR_dFoF.mat')\n",
    "cell_assemblies = sio.loadmat('Cell_assemblies.mat')['clust_ID_final'][0]\n",
    "\n",
    "X = mat_contents['cluster_input_feature'][:,:]\n",
    "y = np.ravel(mat_contents['cluster_target_label'])\n",
    "classnum = len(np.unique(y))\n",
    "\n",
    "n_cell_assemblies = len(cell_assemblies)\n",
    "n_cell = np.shape(X)[1]\n",
    "\n",
    "cell_id = np.zeros((n_cell,2),dtype=int)\n",
    "cell_id[:,0] = np.arange(1,n_cell+1)\n",
    "for i in range(n_cell_assemblies):\n",
    "    cell_id[cell_assemblies[i][:,0]-1,1] = i+1\n",
    "    \n",
    "assembly_size = np.zeros(n_cell_assemblies,)\n",
    "for i in range(n_cell_assemblies):\n",
    "    assembly_size[i] = len(cell_assemblies[i][:,0])"
   ]
  },
  {
   "cell_type": "code",
   "execution_count": 4,
   "metadata": {},
   "outputs": [],
   "source": [
    "# resampling to balance the data\n",
    "from sklearn.utils import resample\n",
    "balanced_input = []\n",
    "balanced_target = []\n",
    "min_size = min([sum(y==i) for i in range(1,5)])\n",
    "for i in range(1,classnum+1):\n",
    "    if min_size < 20:\n",
    "        balanced_input.append(resample(X[y==i], replace=True, n_samples=20, random_state=123))\n",
    "        balanced_target.append(resample(y[y==i], replace=True, n_samples=20, random_state=456))\n",
    "    else:\n",
    "        balanced_input.append(resample(X[y==i], replace=False, n_samples=20, random_state=123))\n",
    "        balanced_target.append(resample(y[y==i], replace=False, n_samples=20, random_state=456))\n",
    "X_balanced = np.concatenate(balanced_input)\n",
    "y_balanced = np.concatenate(balanced_target)\n",
    "use_balanced = True"
   ]
  },
  {
   "cell_type": "code",
   "execution_count": 5,
   "metadata": {},
   "outputs": [],
   "source": [
    "# construct classifier and use SVM RFE\n",
    "estimator = SVC(C=10,kernel=\"linear\",class_weight='balanced',random_state=1)\n",
    "selector = RFECV(estimator, step=3, cv=5, n_jobs = 10, scoring='accuracy')\n",
    "# start fitting the model\n",
    "selector = selector.fit(X_balanced, y_balanced)\n",
    "\n",
    "# compute the cross-validated prediction result\n",
    "np.random.seed(0)\n",
    "if use_balanced:\n",
    "    X_select = selector.transform(X_balanced)\n",
    "    Y_pred = cross_val_predict(estimator,X_select,y_balanced,cv=10,n_jobs=5)\n",
    "    # classification measurement of the model\n",
    "    acc = [float(len(np.intersect1d(np.where(Y_pred==i), np.where(y_balanced==i))))/len(np.where(y_balanced==i)[0]) for i in range(1,classnum+1)] #accuracy_score(y, Y_pred)\n",
    "    prc = precision_score(y_balanced, Y_pred, average=None)\n",
    "    rec = recall_score(y_balanced, Y_pred, average=None)\n",
    "    #confmat = confusion_matrix(y_balanced,Y_pred)"
   ]
  }
 ],
 "metadata": {
  "kernelspec": {
   "display_name": "python3",
   "language": "python",
   "name": "pytorch_gpu"
  },
  "language_info": {
   "codemirror_mode": {
    "name": "ipython",
    "version": 3
   },
   "file_extension": ".py",
   "mimetype": "text/x-python",
   "name": "python",
   "nbconvert_exporter": "python",
   "pygments_lexer": "ipython3",
   "version": "3.6.9"
  }
 },
 "nbformat": 4,
 "nbformat_minor": 2
}
